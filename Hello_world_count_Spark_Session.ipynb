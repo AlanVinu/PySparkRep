{
 "cells": [
  {
   "cell_type": "markdown",
   "metadata": {},
   "source": [
    "### Hello world count using SparkSession"
   ]
  },
  {
   "cell_type": "code",
   "execution_count": 1,
   "metadata": {},
   "outputs": [],
   "source": [
    "#import pyspark\n",
    "import pyspark\n",
    "#import sparksession\n",
    "from pyspark.sql import SparkSession\n",
    "#import add operator\n",
    "from operator import add"
   ]
  },
  {
   "cell_type": "code",
   "execution_count": 2,
   "metadata": {},
   "outputs": [],
   "source": [
    "# Creating a spark session\n",
    "# This defines the entry point to programming spark with dataset and dataframe API\n",
    "\n",
    "# appName(name)- Sets a name for the application, which will be shown in the Spark web UI\n",
    "# getOrCreate()- Gets an existing SparkSession or, if there is no existing one, creates a \n",
    "#                new one based on the options set in this builder\n",
    "spark = SparkSession.builder.appName(\"word_count\").getOrCreate()"
   ]
  },
  {
   "cell_type": "code",
   "execution_count": 3,
   "metadata": {},
   "outputs": [
    {
     "data": {
      "text/plain": [
       "['H', 'e', 'l', 'l', 'o', 'W', 'o', 'r', 'l', 'd']"
      ]
     },
     "execution_count": 3,
     "metadata": {},
     "output_type": "execute_result"
    }
   ],
   "source": [
    "##Creating RDD using the parallelize fuction from sparkcontext\n",
    "data = spark.sparkContext.parallelize(list(\"HelloWorld\"))\n",
    "data.collect()"
   ]
  },
  {
   "cell_type": "code",
   "execution_count": 4,
   "metadata": {},
   "outputs": [
    {
     "name": "stdout",
     "output_type": "stream",
     "text": [
      "[('l', 3), ('o', 2), ('W', 1), ('r', 1), ('d', 1), ('H', 1), ('e', 1)]\n"
     ]
    }
   ],
   "source": [
    "#Using RDD transformations and lambda function the word count is calculated and stored in the descending order of their counts.\n",
    "counts = data.map(lambda x: (x, 1)).reduceByKey(add).sortBy(lambda x: x[1], \\\n",
    "                                                            ascending=False).collect()\n",
    "print(counts)"
   ]
  },
  {
   "cell_type": "code",
   "execution_count": 5,
   "metadata": {},
   "outputs": [
    {
     "name": "stdout",
     "output_type": "stream",
     "text": [
      "l: 3\n",
      "o: 2\n",
      "W: 1\n",
      "r: 1\n",
      "d: 1\n",
      "H: 1\n",
      "e: 1\n"
     ]
    }
   ],
   "source": [
    "#Perfoming iteration to print the word and their respective count values\n",
    "for (word, count) in counts:\n",
    "    print(\"{}: {}\".format(word, count))\n",
    "sc.stop()"
   ]
  },
  {
   "cell_type": "code",
   "execution_count": null,
   "metadata": {},
   "outputs": [],
   "source": []
  }
 ],
 "metadata": {
  "kernelspec": {
   "display_name": "Python 3",
   "language": "python",
   "name": "python3"
  },
  "language_info": {
   "codemirror_mode": {
    "name": "ipython",
    "version": 3
   },
   "file_extension": ".py",
   "mimetype": "text/x-python",
   "name": "python",
   "nbconvert_exporter": "python",
   "pygments_lexer": "ipython3",
   "version": "3.6.4"
  }
 },
 "nbformat": 4,
 "nbformat_minor": 2
}
