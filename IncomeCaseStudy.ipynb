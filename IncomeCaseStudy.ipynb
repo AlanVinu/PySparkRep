{
 "cells": [
  {
   "cell_type": "code",
   "execution_count": 1,
   "metadata": {},
   "outputs": [],
   "source": [
    "#Importing necessary libraries\n",
    "\n",
    "# Importing pyspark spark functions in python\n",
    "import pyspark\n",
    "\n",
    "# Importing pandas to perform operations using dataframes\n",
    "import pandas as pd\n",
    "\n",
    "# Importing numpy to perform matrix operations\n",
    "import numpy as np\n",
    "\n",
    "# Importing matlot.lib to plot graphs\n",
    "import matplotlib.pyplot as plt\n",
    "\n",
    "# Inporting SparkSession from pyspark.sql to create a spark session\n",
    "from pyspark.sql import SparkSession"
   ]
  },
  {
   "cell_type": "code",
   "execution_count": 2,
   "metadata": {},
   "outputs": [],
   "source": [
    "# Creating a spark session\n",
    "# This defines the entry point to programming spark with dataset and dataframe API\n",
    "\n",
    "# appName(name)- Sets a name for the application, which will be shown in the Spark web UI\n",
    "# getOrCreate()- Gets an existing SparkSession or, if there is no existing one, creates a \n",
    "#                new one based on the options set in this builder\n",
    "\n",
    "spark = SparkSession.builder.appName('incomecs').getOrCreate()\n"
   ]
  },
  {
   "cell_type": "code",
   "execution_count": 3,
   "metadata": {
    "scrolled": false
   },
   "outputs": [],
   "source": [
    "# Reading the data\n",
    "incomeData=spark.read.csv(\"incomeScaledData.csv\",header=True,\\\n",
    "                          inferSchema=True)"
   ]
  },
  {
   "cell_type": "code",
   "execution_count": 4,
   "metadata": {},
   "outputs": [
    {
     "data": {
      "text/plain": [
       "pyspark.sql.dataframe.DataFrame"
      ]
     },
     "execution_count": 4,
     "metadata": {},
     "output_type": "execute_result"
    }
   ],
   "source": [
    "type(incomeData)"
   ]
  },
  {
   "cell_type": "code",
   "execution_count": 5,
   "metadata": {},
   "outputs": [
    {
     "name": "stdout",
     "output_type": "stream",
     "text": [
      "root\n",
      " |-- age: string (nullable = true)\n",
      " |-- JobType: string (nullable = true)\n",
      " |-- EdType: string (nullable = true)\n",
      " |-- maritalstatus: string (nullable = true)\n",
      " |-- occupation: string (nullable = true)\n",
      " |-- relationship: string (nullable = true)\n",
      " |-- race: string (nullable = true)\n",
      " |-- gender: string (nullable = true)\n",
      " |-- capitalgain: double (nullable = true)\n",
      " |-- capitalloss: double (nullable = true)\n",
      " |-- hoursperweek: double (nullable = true)\n",
      " |-- SalStat: string (nullable = true)\n",
      "\n"
     ]
    }
   ],
   "source": [
    "# Structure of data\n",
    "incomeData.printSchema()"
   ]
  },
  {
   "cell_type": "code",
   "execution_count": 6,
   "metadata": {},
   "outputs": [],
   "source": [
    "incomeData=incomeData.withColumn('age',incomeData['age'].astype('float'))"
   ]
  },
  {
   "cell_type": "code",
   "execution_count": 7,
   "metadata": {},
   "outputs": [
    {
     "name": "stdout",
     "output_type": "stream",
     "text": [
      "root\n",
      " |-- age: float (nullable = true)\n",
      " |-- JobType: string (nullable = true)\n",
      " |-- EdType: string (nullable = true)\n",
      " |-- maritalstatus: string (nullable = true)\n",
      " |-- occupation: string (nullable = true)\n",
      " |-- relationship: string (nullable = true)\n",
      " |-- race: string (nullable = true)\n",
      " |-- gender: string (nullable = true)\n",
      " |-- capitalgain: double (nullable = true)\n",
      " |-- capitalloss: double (nullable = true)\n",
      " |-- hoursperweek: double (nullable = true)\n",
      " |-- SalStat: string (nullable = true)\n",
      "\n"
     ]
    }
   ],
   "source": [
    "incomeData.printSchema()"
   ]
  },
  {
   "cell_type": "code",
   "execution_count": 8,
   "metadata": {},
   "outputs": [
    {
     "name": "stdout",
     "output_type": "stream",
     "text": [
      "['age', 'JobType', 'EdType', 'maritalstatus', 'occupation', 'relationship', 'race', 'gender', 'capitalgain', 'capitalloss', 'hoursperweek', 'SalStat']\n"
     ]
    }
   ],
   "source": [
    "# Columns in dataframe\n",
    "incomeData.columns\n",
    "print(incomeData.columns)"
   ]
  },
  {
   "cell_type": "code",
   "execution_count": 9,
   "metadata": {},
   "outputs": [
    {
     "name": "stdout",
     "output_type": "stream",
     "text": [
      "12\n"
     ]
    }
   ],
   "source": [
    "# No. of columns\n",
    "l=len(incomeData.columns)\n",
    "print(l)"
   ]
  },
  {
   "cell_type": "code",
   "execution_count": 10,
   "metadata": {},
   "outputs": [
    {
     "data": {
      "text/plain": [
       "[Row(age=39.0, JobType=' State-gov', EdType=' Bachelors', maritalstatus=' Never-married', occupation=' Adm-clerical', relationship=' Husband', race=' White', gender=' Male', capitalgain=2174.0, capitalloss=0.0, hoursperweek=40.0, SalStat=' less than or equal to 50,000'),\n",
       " Row(age=50.0, JobType=' Self-emp-not-inc', EdType=' Bachelors', maritalstatus=' Married-civ-spouse', occupation=' Exec-managerial', relationship=' Other-relative', race=' Amer-Indian-Eskimo', gender=' Male', capitalgain=0.0, capitalloss=0.0, hoursperweek=13.0, SalStat=' less than or equal to 50,000'),\n",
       " Row(age=38.0, JobType=' Private', EdType=' HS-grad', maritalstatus=' Divorced', occupation=' Handlers-cleaners', relationship=' Own-child', race=' Black', gender=' Male', capitalgain=0.0, capitalloss=0.0, hoursperweek=40.0, SalStat=' less than or equal to 50,000'),\n",
       " Row(age=53.0, JobType=' Private', EdType=' 11th', maritalstatus=' Married-civ-spouse', occupation=' Handlers-cleaners', relationship=' Not-in-family', race=' Black', gender=' Male', capitalgain=0.0, capitalloss=0.0, hoursperweek=40.0, SalStat=' less than or equal to 50,000'),\n",
       " Row(age=28.0, JobType=' Private', EdType=' Bachelors', maritalstatus=' Married-civ-spouse', occupation=' Prof-specialty', relationship=' Wife', race=' Asian-Pac-Islander', gender=' Female', capitalgain=0.0, capitalloss=0.0, hoursperweek=40.0, SalStat=' less than or equal to 50,000')]"
      ]
     },
     "execution_count": 10,
     "metadata": {},
     "output_type": "execute_result"
    }
   ],
   "source": [
    "# First five rows\n",
    "incomeData.take(5)"
   ]
  },
  {
   "cell_type": "code",
   "execution_count": 11,
   "metadata": {},
   "outputs": [
    {
     "data": {
      "text/html": [
       "<div>\n",
       "<style scoped>\n",
       "    .dataframe tbody tr th:only-of-type {\n",
       "        vertical-align: middle;\n",
       "    }\n",
       "\n",
       "    .dataframe tbody tr th {\n",
       "        vertical-align: top;\n",
       "    }\n",
       "\n",
       "    .dataframe thead th {\n",
       "        text-align: right;\n",
       "    }\n",
       "</style>\n",
       "<table border=\"1\" class=\"dataframe\">\n",
       "  <thead>\n",
       "    <tr style=\"text-align: right;\">\n",
       "      <th></th>\n",
       "      <th>age</th>\n",
       "      <th>JobType</th>\n",
       "      <th>EdType</th>\n",
       "      <th>maritalstatus</th>\n",
       "      <th>occupation</th>\n",
       "      <th>relationship</th>\n",
       "      <th>race</th>\n",
       "      <th>gender</th>\n",
       "      <th>capitalgain</th>\n",
       "      <th>capitalloss</th>\n",
       "      <th>hoursperweek</th>\n",
       "      <th>SalStat</th>\n",
       "    </tr>\n",
       "  </thead>\n",
       "  <tbody>\n",
       "    <tr>\n",
       "      <th>0</th>\n",
       "      <td>39.0</td>\n",
       "      <td>State-gov</td>\n",
       "      <td>Bachelors</td>\n",
       "      <td>Never-married</td>\n",
       "      <td>Adm-clerical</td>\n",
       "      <td>Husband</td>\n",
       "      <td>White</td>\n",
       "      <td>Male</td>\n",
       "      <td>2174.0</td>\n",
       "      <td>0.0</td>\n",
       "      <td>40.0</td>\n",
       "      <td>less than or equal to 50,000</td>\n",
       "    </tr>\n",
       "    <tr>\n",
       "      <th>1</th>\n",
       "      <td>50.0</td>\n",
       "      <td>Self-emp-not-inc</td>\n",
       "      <td>Bachelors</td>\n",
       "      <td>Married-civ-spouse</td>\n",
       "      <td>Exec-managerial</td>\n",
       "      <td>Other-relative</td>\n",
       "      <td>Amer-Indian-Eskimo</td>\n",
       "      <td>Male</td>\n",
       "      <td>0.0</td>\n",
       "      <td>0.0</td>\n",
       "      <td>13.0</td>\n",
       "      <td>less than or equal to 50,000</td>\n",
       "    </tr>\n",
       "    <tr>\n",
       "      <th>2</th>\n",
       "      <td>38.0</td>\n",
       "      <td>Private</td>\n",
       "      <td>HS-grad</td>\n",
       "      <td>Divorced</td>\n",
       "      <td>Handlers-cleaners</td>\n",
       "      <td>Own-child</td>\n",
       "      <td>Black</td>\n",
       "      <td>Male</td>\n",
       "      <td>0.0</td>\n",
       "      <td>0.0</td>\n",
       "      <td>40.0</td>\n",
       "      <td>less than or equal to 50,000</td>\n",
       "    </tr>\n",
       "    <tr>\n",
       "      <th>3</th>\n",
       "      <td>53.0</td>\n",
       "      <td>Private</td>\n",
       "      <td>11th</td>\n",
       "      <td>Married-civ-spouse</td>\n",
       "      <td>Handlers-cleaners</td>\n",
       "      <td>Not-in-family</td>\n",
       "      <td>Black</td>\n",
       "      <td>Male</td>\n",
       "      <td>0.0</td>\n",
       "      <td>0.0</td>\n",
       "      <td>40.0</td>\n",
       "      <td>less than or equal to 50,000</td>\n",
       "    </tr>\n",
       "    <tr>\n",
       "      <th>4</th>\n",
       "      <td>28.0</td>\n",
       "      <td>Private</td>\n",
       "      <td>Bachelors</td>\n",
       "      <td>Married-civ-spouse</td>\n",
       "      <td>Prof-specialty</td>\n",
       "      <td>Wife</td>\n",
       "      <td>Asian-Pac-Islander</td>\n",
       "      <td>Female</td>\n",
       "      <td>0.0</td>\n",
       "      <td>0.0</td>\n",
       "      <td>40.0</td>\n",
       "      <td>less than or equal to 50,000</td>\n",
       "    </tr>\n",
       "  </tbody>\n",
       "</table>\n",
       "</div>"
      ],
      "text/plain": [
       "    age            JobType      EdType        maritalstatus  \\\n",
       "0  39.0          State-gov   Bachelors        Never-married   \n",
       "1  50.0   Self-emp-not-inc   Bachelors   Married-civ-spouse   \n",
       "2  38.0            Private     HS-grad             Divorced   \n",
       "3  53.0            Private        11th   Married-civ-spouse   \n",
       "4  28.0            Private   Bachelors   Married-civ-spouse   \n",
       "\n",
       "           occupation     relationship                 race   gender  \\\n",
       "0        Adm-clerical          Husband                White     Male   \n",
       "1     Exec-managerial   Other-relative   Amer-Indian-Eskimo     Male   \n",
       "2   Handlers-cleaners        Own-child                Black     Male   \n",
       "3   Handlers-cleaners    Not-in-family                Black     Male   \n",
       "4      Prof-specialty             Wife   Asian-Pac-Islander   Female   \n",
       "\n",
       "   capitalgain  capitalloss  hoursperweek                        SalStat  \n",
       "0       2174.0          0.0          40.0   less than or equal to 50,000  \n",
       "1          0.0          0.0          13.0   less than or equal to 50,000  \n",
       "2          0.0          0.0          40.0   less than or equal to 50,000  \n",
       "3          0.0          0.0          40.0   less than or equal to 50,000  \n",
       "4          0.0          0.0          40.0   less than or equal to 50,000  "
      ]
     },
     "execution_count": 11,
     "metadata": {},
     "output_type": "execute_result"
    }
   ],
   "source": [
    "# Pandas df gives a neater output for understanding\n",
    "\n",
    "pd.DataFrame(incomeData.take(5), columns=incomeData.columns)"
   ]
  },
  {
   "cell_type": "code",
   "execution_count": 12,
   "metadata": {},
   "outputs": [
    {
     "name": "stdout",
     "output_type": "stream",
     "text": [
      "+-----------------+------+\n",
      "|          JobType| count|\n",
      "+-----------------+------+\n",
      "|        State-gov| 15658|\n",
      "|      Federal-gov| 16452|\n",
      "|             null|     2|\n",
      "| Self-emp-not-inc| 23202|\n",
      "|        Local-gov| 26975|\n",
      "|          Private|170730|\n",
      "|               NA| 13544|\n",
      "|     Self-emp-inc| 11570|\n",
      "|      Without-pay|    64|\n",
      "|     Never-worked|    38|\n",
      "+-----------------+------+\n",
      "\n"
     ]
    }
   ],
   "source": [
    "# Count of categories in JobType\n",
    "incomeData.groupby('JobType').count().show()"
   ]
  },
  {
   "cell_type": "code",
   "execution_count": 13,
   "metadata": {},
   "outputs": [
    {
     "name": "stdout",
     "output_type": "stream",
     "text": [
      "+------------------+-----+\n",
      "|        occupation|count|\n",
      "+------------------+-----+\n",
      "|   Farming-fishing| 6675|\n",
      "|              null|    2|\n",
      "| Handlers-cleaners| 8986|\n",
      "|    Prof-specialty|46420|\n",
      "|      Adm-clerical|29323|\n",
      "|   Exec-managerial|43751|\n",
      "|      Craft-repair|32406|\n",
      "|             Sales|29816|\n",
      "|      Tech-support| 8751|\n",
      "|                NA|13408|\n",
      "|  Transport-moving|12099|\n",
      "|   Protective-serv| 9416|\n",
      "|      Armed-Forces|   71|\n",
      "| Machine-op-inspct|13835|\n",
      "|     Other-service|22378|\n",
      "|   Priv-house-serv|  898|\n",
      "+------------------+-----+\n",
      "\n"
     ]
    }
   ],
   "source": [
    "# Count of categories in Occupation\n",
    "incomeData.groupby('occupation').count().show()"
   ]
  },
  {
   "cell_type": "code",
   "execution_count": 15,
   "metadata": {},
   "outputs": [
    {
     "name": "stdout",
     "output_type": "stream",
     "text": [
      "+-----------------+------+\n",
      "|          JobType| count|\n",
      "+-----------------+------+\n",
      "|        State-gov| 15658|\n",
      "|      Federal-gov| 16452|\n",
      "|             null|     2|\n",
      "| Self-emp-not-inc| 23202|\n",
      "|        Local-gov| 26975|\n",
      "|          Private|170730|\n",
      "|               NA| 13544|\n",
      "|     Self-emp-inc| 11570|\n",
      "|      Without-pay|    64|\n",
      "|     Never-worked|    38|\n",
      "+-----------------+------+\n",
      "\n",
      "DataFrame[JobType: string, count: bigint]\n"
     ]
    }
   ],
   "source": [
    "# Storing categories in df_for_mode\n",
    "df_for_mode = incomeData.groupBy(\"JobType\").count()\n",
    "df_for_mode.show()\n",
    "print(df_for_mode)"
   ]
  },
  {
   "cell_type": "code",
   "execution_count": 16,
   "metadata": {},
   "outputs": [],
   "source": [
    "# Finding the mode\n",
    "mode_jobtype = df_for_mode.orderBy(df_for_mode['count'].desc()).collect()[0][0]"
   ]
  },
  {
   "cell_type": "code",
   "execution_count": 20,
   "metadata": {},
   "outputs": [
    {
     "name": "stdout",
     "output_type": "stream",
     "text": [
      " Private\n"
     ]
    }
   ],
   "source": [
    "print(mode_jobtype)"
   ]
  },
  {
   "cell_type": "code",
   "execution_count": 21,
   "metadata": {},
   "outputs": [
    {
     "data": {
      "text/plain": [
       "[Row(JobType=' Private', count=170730),\n",
       " Row(JobType=' Local-gov', count=26975),\n",
       " Row(JobType=' Self-emp-not-inc', count=23202),\n",
       " Row(JobType=' Federal-gov', count=16452),\n",
       " Row(JobType=' State-gov', count=15658),\n",
       " Row(JobType=' NA', count=13544),\n",
       " Row(JobType=' Self-emp-inc', count=11570),\n",
       " Row(JobType=' Without-pay', count=64),\n",
       " Row(JobType=' Never-worked', count=38),\n",
       " Row(JobType=None, count=2)]"
      ]
     },
     "execution_count": 21,
     "metadata": {},
     "output_type": "execute_result"
    }
   ],
   "source": [
    "df_for_mode.orderBy(df_for_mode['count'].desc()).collect()"
   ]
  },
  {
   "cell_type": "code",
   "execution_count": 23,
   "metadata": {},
   "outputs": [
    {
     "data": {
      "text/plain": [
       "[Row(JobType=None, count=2),\n",
       " Row(JobType=' Never-worked', count=38),\n",
       " Row(JobType=' Without-pay', count=64),\n",
       " Row(JobType=' Self-emp-inc', count=11570),\n",
       " Row(JobType=' NA', count=13544),\n",
       " Row(JobType=' State-gov', count=15658),\n",
       " Row(JobType=' Federal-gov', count=16452),\n",
       " Row(JobType=' Self-emp-not-inc', count=23202),\n",
       " Row(JobType=' Local-gov', count=26975),\n",
       " Row(JobType=' Private', count=170730)]"
      ]
     },
     "execution_count": 23,
     "metadata": {},
     "output_type": "execute_result"
    }
   ],
   "source": [
    "df_for_mode.orderBy(df_for_mode['count'],ascending=True).collect()\n",
    "df_for_mode.orderBy(df_for_mode['count'].asc()).collect()"
   ]
  },
  {
   "cell_type": "code",
   "execution_count": 24,
   "metadata": {},
   "outputs": [],
   "source": [
    "#Currently Imputer does not support categorical features and possibly creates incorrect \n",
    "#values for a categorical feature.\n",
    "#So let's impute NA with mode by ourselves.\n",
    "from pyspark.sql.functions import when"
   ]
  },
  {
   "cell_type": "code",
   "execution_count": 25,
   "metadata": {},
   "outputs": [],
   "source": [
    "# Impute NA with mode\n",
    "incomeData = incomeData.withColumn(\"JobType\",\\\n",
    "             when(incomeData[\"JobType\"] == \" NA\", mode_jobtype)\\\n",
    "                                   .otherwise(incomeData[\"JobType\"]))\n",
    "\n",
    "df_for_mode = incomeData.groupBy(\"occupation\").count()\n",
    "\n",
    "#Mode for occupation\n",
    "mode_occ = df_for_mode.orderBy(df_for_mode['count'].desc()).collect()[0][0]\n",
    "\n",
    "incomeData = incomeData.withColumn(\"occupation\",\\\n",
    "             when(incomeData[\"occupation\"] == \" NA\", mode_occ)\\\n",
    "                                   .otherwise(incomeData[\"occupation\"]))"
   ]
  },
  {
   "cell_type": "code",
   "execution_count": 26,
   "metadata": {},
   "outputs": [
    {
     "name": "stdout",
     "output_type": "stream",
     "text": [
      "+-----------------+------+\n",
      "|          JobType| count|\n",
      "+-----------------+------+\n",
      "|        State-gov| 15658|\n",
      "|      Federal-gov| 16452|\n",
      "|             null|     2|\n",
      "| Self-emp-not-inc| 23202|\n",
      "|        Local-gov| 26975|\n",
      "|          Private|184274|\n",
      "|     Self-emp-inc| 11570|\n",
      "|      Without-pay|    64|\n",
      "|     Never-worked|    38|\n",
      "+-----------------+------+\n",
      "\n"
     ]
    }
   ],
   "source": [
    "incomeData.groupby('JobType').count().show()"
   ]
  },
  {
   "cell_type": "code",
   "execution_count": 27,
   "metadata": {},
   "outputs": [
    {
     "name": "stdout",
     "output_type": "stream",
     "text": [
      "Mode of JobType: Private\n",
      "Mode of Occupation: Prof-specialty\n"
     ]
    }
   ],
   "source": [
    "print(\"Mode of JobType:\"+mode_jobtype)\n",
    "print(\"Mode of Occupation:\"+mode_occ)"
   ]
  },
  {
   "cell_type": "code",
   "execution_count": 28,
   "metadata": {},
   "outputs": [
    {
     "name": "stdout",
     "output_type": "stream",
     "text": [
      "+-----------------+------+\n",
      "|          JobType| count|\n",
      "+-----------------+------+\n",
      "|        State-gov| 15658|\n",
      "|      Federal-gov| 16452|\n",
      "|             null|     2|\n",
      "| Self-emp-not-inc| 23202|\n",
      "|        Local-gov| 26975|\n",
      "|          Private|184274|\n",
      "|     Self-emp-inc| 11570|\n",
      "|      Without-pay|    64|\n",
      "|     Never-worked|    38|\n",
      "+-----------------+------+\n",
      "\n"
     ]
    }
   ],
   "source": [
    "incomeData.groupby('JobType').count().show()"
   ]
  },
  {
   "cell_type": "code",
   "execution_count": 29,
   "metadata": {},
   "outputs": [
    {
     "name": "stdout",
     "output_type": "stream",
     "text": [
      "+------------------+-----+\n",
      "|        occupation|count|\n",
      "+------------------+-----+\n",
      "|   Farming-fishing| 6675|\n",
      "|              null|    2|\n",
      "| Handlers-cleaners| 8986|\n",
      "|    Prof-specialty|59828|\n",
      "|      Adm-clerical|29323|\n",
      "|   Exec-managerial|43751|\n",
      "|      Craft-repair|32406|\n",
      "|             Sales|29816|\n",
      "|      Tech-support| 8751|\n",
      "|  Transport-moving|12099|\n",
      "|   Protective-serv| 9416|\n",
      "|      Armed-Forces|   71|\n",
      "| Machine-op-inspct|13835|\n",
      "|     Other-service|22378|\n",
      "|   Priv-house-serv|  898|\n",
      "+------------------+-----+\n",
      "\n"
     ]
    }
   ],
   "source": [
    "incomeData.groupby('occupation').count().show()\n",
    "#All NAs have been replaced"
   ]
  },
  {
   "cell_type": "code",
   "execution_count": 30,
   "metadata": {},
   "outputs": [
    {
     "name": "stdout",
     "output_type": "stream",
     "text": [
      "root\n",
      " |-- age: double (nullable = true)\n",
      " |-- JobType: string (nullable = true)\n",
      " |-- EdType: string (nullable = true)\n",
      " |-- maritalstatus: string (nullable = true)\n",
      " |-- occupation: string (nullable = true)\n",
      " |-- relationship: string (nullable = true)\n",
      " |-- race: string (nullable = true)\n",
      " |-- gender: string (nullable = true)\n",
      " |-- capitalgain: double (nullable = true)\n",
      " |-- capitalloss: double (nullable = true)\n",
      " |-- hoursperweek: double (nullable = true)\n",
      " |-- SalStat: string (nullable = true)\n",
      "\n"
     ]
    }
   ],
   "source": [
    "#Convert type of age,capitalgain, capitalloss,hoursperweek into double from string\n",
    "from pyspark.sql.types import DoubleType\n",
    "incomeData = incomeData.withColumn(\"age\", incomeData[\"age\"].cast(DoubleType()))\n",
    "incomeData = incomeData.withColumn(\"capitalgain\", incomeData[\"capitalgain\"].cast(DoubleType()))\n",
    "incomeData = incomeData.withColumn(\"capitalloss\", incomeData[\"capitalloss\"].cast(DoubleType()))\n",
    "incomeData = incomeData.withColumn(\"hoursperweek\", incomeData[\"hoursperweek\"].cast(DoubleType()))\n",
    "incomeData.printSchema()\n"
   ]
  },
  {
   "cell_type": "code",
   "execution_count": 31,
   "metadata": {},
   "outputs": [
    {
     "data": {
      "text/html": [
       "<div>\n",
       "<style scoped>\n",
       "    .dataframe tbody tr th:only-of-type {\n",
       "        vertical-align: middle;\n",
       "    }\n",
       "\n",
       "    .dataframe tbody tr th {\n",
       "        vertical-align: top;\n",
       "    }\n",
       "\n",
       "    .dataframe thead th {\n",
       "        text-align: right;\n",
       "    }\n",
       "</style>\n",
       "<table border=\"1\" class=\"dataframe\">\n",
       "  <thead>\n",
       "    <tr style=\"text-align: right;\">\n",
       "      <th></th>\n",
       "      <th>0</th>\n",
       "      <th>1</th>\n",
       "      <th>2</th>\n",
       "      <th>3</th>\n",
       "      <th>4</th>\n",
       "    </tr>\n",
       "  </thead>\n",
       "  <tbody>\n",
       "    <tr>\n",
       "      <th>age</th>\n",
       "      <td>39</td>\n",
       "      <td>50</td>\n",
       "      <td>38</td>\n",
       "      <td>53</td>\n",
       "      <td>28</td>\n",
       "    </tr>\n",
       "    <tr>\n",
       "      <th>JobType</th>\n",
       "      <td>State-gov</td>\n",
       "      <td>Self-emp-not-inc</td>\n",
       "      <td>Private</td>\n",
       "      <td>Private</td>\n",
       "      <td>Private</td>\n",
       "    </tr>\n",
       "    <tr>\n",
       "      <th>EdType</th>\n",
       "      <td>Bachelors</td>\n",
       "      <td>Bachelors</td>\n",
       "      <td>HS-grad</td>\n",
       "      <td>11th</td>\n",
       "      <td>Bachelors</td>\n",
       "    </tr>\n",
       "    <tr>\n",
       "      <th>maritalstatus</th>\n",
       "      <td>Never-married</td>\n",
       "      <td>Married-civ-spouse</td>\n",
       "      <td>Divorced</td>\n",
       "      <td>Married-civ-spouse</td>\n",
       "      <td>Married-civ-spouse</td>\n",
       "    </tr>\n",
       "    <tr>\n",
       "      <th>occupation</th>\n",
       "      <td>Adm-clerical</td>\n",
       "      <td>Exec-managerial</td>\n",
       "      <td>Handlers-cleaners</td>\n",
       "      <td>Handlers-cleaners</td>\n",
       "      <td>Prof-specialty</td>\n",
       "    </tr>\n",
       "    <tr>\n",
       "      <th>relationship</th>\n",
       "      <td>Husband</td>\n",
       "      <td>Other-relative</td>\n",
       "      <td>Own-child</td>\n",
       "      <td>Not-in-family</td>\n",
       "      <td>Wife</td>\n",
       "    </tr>\n",
       "    <tr>\n",
       "      <th>race</th>\n",
       "      <td>White</td>\n",
       "      <td>Amer-Indian-Eskimo</td>\n",
       "      <td>Black</td>\n",
       "      <td>Black</td>\n",
       "      <td>Asian-Pac-Islander</td>\n",
       "    </tr>\n",
       "    <tr>\n",
       "      <th>gender</th>\n",
       "      <td>Male</td>\n",
       "      <td>Male</td>\n",
       "      <td>Male</td>\n",
       "      <td>Male</td>\n",
       "      <td>Female</td>\n",
       "    </tr>\n",
       "    <tr>\n",
       "      <th>capitalgain</th>\n",
       "      <td>2174</td>\n",
       "      <td>0</td>\n",
       "      <td>0</td>\n",
       "      <td>0</td>\n",
       "      <td>0</td>\n",
       "    </tr>\n",
       "    <tr>\n",
       "      <th>capitalloss</th>\n",
       "      <td>0</td>\n",
       "      <td>0</td>\n",
       "      <td>0</td>\n",
       "      <td>0</td>\n",
       "      <td>0</td>\n",
       "    </tr>\n",
       "    <tr>\n",
       "      <th>hoursperweek</th>\n",
       "      <td>40</td>\n",
       "      <td>13</td>\n",
       "      <td>40</td>\n",
       "      <td>40</td>\n",
       "      <td>40</td>\n",
       "    </tr>\n",
       "    <tr>\n",
       "      <th>SalStat</th>\n",
       "      <td>less than or equal to 50,000</td>\n",
       "      <td>less than or equal to 50,000</td>\n",
       "      <td>less than or equal to 50,000</td>\n",
       "      <td>less than or equal to 50,000</td>\n",
       "      <td>less than or equal to 50,000</td>\n",
       "    </tr>\n",
       "  </tbody>\n",
       "</table>\n",
       "</div>"
      ],
      "text/plain": [
       "                                           0                              1  \\\n",
       "age                                       39                             50   \n",
       "JobType                            State-gov               Self-emp-not-inc   \n",
       "EdType                             Bachelors                      Bachelors   \n",
       "maritalstatus                  Never-married             Married-civ-spouse   \n",
       "occupation                      Adm-clerical                Exec-managerial   \n",
       "relationship                         Husband                 Other-relative   \n",
       "race                                   White             Amer-Indian-Eskimo   \n",
       "gender                                  Male                           Male   \n",
       "capitalgain                             2174                              0   \n",
       "capitalloss                                0                              0   \n",
       "hoursperweek                              40                             13   \n",
       "SalStat         less than or equal to 50,000   less than or equal to 50,000   \n",
       "\n",
       "                                           2                              3  \\\n",
       "age                                       38                             53   \n",
       "JobType                              Private                        Private   \n",
       "EdType                               HS-grad                           11th   \n",
       "maritalstatus                       Divorced             Married-civ-spouse   \n",
       "occupation                 Handlers-cleaners              Handlers-cleaners   \n",
       "relationship                       Own-child                  Not-in-family   \n",
       "race                                   Black                          Black   \n",
       "gender                                  Male                           Male   \n",
       "capitalgain                                0                              0   \n",
       "capitalloss                                0                              0   \n",
       "hoursperweek                              40                             40   \n",
       "SalStat         less than or equal to 50,000   less than or equal to 50,000   \n",
       "\n",
       "                                           4  \n",
       "age                                       28  \n",
       "JobType                              Private  \n",
       "EdType                             Bachelors  \n",
       "maritalstatus             Married-civ-spouse  \n",
       "occupation                    Prof-specialty  \n",
       "relationship                            Wife  \n",
       "race                      Asian-Pac-Islander  \n",
       "gender                                Female  \n",
       "capitalgain                                0  \n",
       "capitalloss                                0  \n",
       "hoursperweek                              40  \n",
       "SalStat         less than or equal to 50,000  "
      ]
     },
     "execution_count": 31,
     "metadata": {},
     "output_type": "execute_result"
    }
   ],
   "source": [
    "cols=incomeData.columns\n",
    "pd.DataFrame(incomeData.take(5), columns=cols).transpose()"
   ]
  },
  {
   "cell_type": "code",
   "execution_count": 32,
   "metadata": {},
   "outputs": [
    {
     "data": {
      "text/plain": [
       "[('age', 'double'),\n",
       " ('JobType', 'string'),\n",
       " ('EdType', 'string'),\n",
       " ('maritalstatus', 'string'),\n",
       " ('occupation', 'string'),\n",
       " ('relationship', 'string'),\n",
       " ('race', 'string'),\n",
       " ('gender', 'string'),\n",
       " ('capitalgain', 'double'),\n",
       " ('capitalloss', 'double'),\n",
       " ('hoursperweek', 'double'),\n",
       " ('SalStat', 'string')]"
      ]
     },
     "execution_count": 32,
     "metadata": {},
     "output_type": "execute_result"
    }
   ],
   "source": [
    "incomeData.dtypes"
   ]
  },
  {
   "cell_type": "code",
   "execution_count": 33,
   "metadata": {},
   "outputs": [
    {
     "data": {
      "text/html": [
       "<div>\n",
       "<style scoped>\n",
       "    .dataframe tbody tr th:only-of-type {\n",
       "        vertical-align: middle;\n",
       "    }\n",
       "\n",
       "    .dataframe tbody tr th {\n",
       "        vertical-align: top;\n",
       "    }\n",
       "\n",
       "    .dataframe thead th {\n",
       "        text-align: right;\n",
       "    }\n",
       "</style>\n",
       "<table border=\"1\" class=\"dataframe\">\n",
       "  <thead>\n",
       "    <tr style=\"text-align: right;\">\n",
       "      <th></th>\n",
       "      <th>0</th>\n",
       "      <th>1</th>\n",
       "      <th>2</th>\n",
       "      <th>3</th>\n",
       "      <th>4</th>\n",
       "    </tr>\n",
       "  </thead>\n",
       "  <tbody>\n",
       "    <tr>\n",
       "      <th>summary</th>\n",
       "      <td>count</td>\n",
       "      <td>mean</td>\n",
       "      <td>stddev</td>\n",
       "      <td>min</td>\n",
       "      <td>max</td>\n",
       "    </tr>\n",
       "    <tr>\n",
       "      <th>age</th>\n",
       "      <td>278233</td>\n",
       "      <td>40.22300911212262</td>\n",
       "      <td>12.78102910600039</td>\n",
       "      <td>17.0</td>\n",
       "      <td>90.0</td>\n",
       "    </tr>\n",
       "    <tr>\n",
       "      <th>capitalgain</th>\n",
       "      <td>278232</td>\n",
       "      <td>1745.313651429856</td>\n",
       "      <td>8919.251552558157</td>\n",
       "      <td>0.0</td>\n",
       "      <td>99999.0</td>\n",
       "    </tr>\n",
       "    <tr>\n",
       "      <th>capitalloss</th>\n",
       "      <td>278232</td>\n",
       "      <td>104.14219225224916</td>\n",
       "      <td>428.88637721869634</td>\n",
       "      <td>0.0</td>\n",
       "      <td>4356.0</td>\n",
       "    </tr>\n",
       "    <tr>\n",
       "      <th>hoursperweek</th>\n",
       "      <td>278232</td>\n",
       "      <td>41.85216309645483</td>\n",
       "      <td>11.664976178814422</td>\n",
       "      <td>1.0</td>\n",
       "      <td>99.0</td>\n",
       "    </tr>\n",
       "  </tbody>\n",
       "</table>\n",
       "</div>"
      ],
      "text/plain": [
       "                   0                   1                   2     3        4\n",
       "summary        count                mean              stddev   min      max\n",
       "age           278233   40.22300911212262   12.78102910600039  17.0     90.0\n",
       "capitalgain   278232   1745.313651429856   8919.251552558157   0.0  99999.0\n",
       "capitalloss   278232  104.14219225224916  428.88637721869634   0.0   4356.0\n",
       "hoursperweek  278232   41.85216309645483  11.664976178814422   1.0     99.0"
      ]
     },
     "execution_count": 33,
     "metadata": {},
     "output_type": "execute_result"
    }
   ],
   "source": [
    "#Summary statistics of numeric variables\n",
    "\n",
    "numeric_features = [t[0] for t in incomeData.dtypes\\\n",
    "                    if t[1] == 'double']\n",
    "incomeData.select(numeric_features).describe().toPandas().transpose()"
   ]
  },
  {
   "cell_type": "code",
   "execution_count": 34,
   "metadata": {},
   "outputs": [],
   "source": [
    "numeric_data = incomeData.select(numeric_features).toPandas()\n",
    "axs = pd.plotting.scatter_matrix(numeric_data, figsize=(8, 8));\n",
    "#Output is a matrix of 8 plots.\n",
    "#The off-diagonal plots are scatter plots of the corresponding axes mentioned in the matrix\n",
    "#Since plotting a variable vs itself would obviously be a straight line,\n",
    "#the function gives extra details in diagonal element in the form of histogram about that feature\n"
   ]
  },
  {
   "cell_type": "code",
   "execution_count": 35,
   "metadata": {},
   "outputs": [],
   "source": [
    "#Preparing Data for Machine Learning\n",
    "from pyspark.ml.feature import OneHotEncoderEstimator, StringIndexer, VectorAssembler\n",
    "categoricalColumns = ['JobType','EdType','maritalstatus','occupation','relationship','race','gender']\n",
    "stages = []\n"
   ]
  },
  {
   "cell_type": "code",
   "execution_count": 36,
   "metadata": {},
   "outputs": [],
   "source": [
    "#Converting categorical variable to integer indexes\n",
    "#Converts the indexed categories into one-hot encoded variables\n",
    "for categoricalCol in categoricalColumns:\n",
    "    stringIndexer=StringIndexer(inputCol= categoricalCol, \\\n",
    "                                outputCol= categoricalCol + 'Index')\\\n",
    "                                .setHandleInvalid(\"skip\")\n",
    "    encoder = OneHotEncoderEstimator(inputCols=[stringIndexer\\\n",
    "                                                .getOutputCol()], \\\n",
    "                                     outputCols=[categoricalCol + \\\n",
    "                                                 \"classVec\"])\n",
    "    stages += [stringIndexer, encoder]\n"
   ]
  },
  {
   "cell_type": "code",
   "execution_count": 37,
   "metadata": {},
   "outputs": [],
   "source": [
    "#StringIndexer to encode our labels to label indices\n",
    "label_stringIdx = StringIndexer(inputCol = 'SalStat', \\\n",
    "                                outputCol = 'label')\\\n",
    "                                .setHandleInvalid(\"skip\")\n",
    "stages += [label_stringIdx]\n",
    "\n",
    "numericCols = ['age','capitalgain','capitalloss','hoursperweek']\n",
    "assemblerInputs = [c + \"classVec\" for c in categoricalColumns] + \\\n",
    "                   numericCols\n",
    "#We use the VectorAssembler to combine all the feature columns into a single vector column    \n",
    "assembler = VectorAssembler(inputCols=assemblerInputs, \\\n",
    "                            outputCol=\"features\")\n",
    "stages += [assembler]"
   ]
  },
  {
   "cell_type": "code",
   "execution_count": 38,
   "metadata": {},
   "outputs": [],
   "source": [
    "#SQL commands\n",
    "sql_sc = SQLContext(sc)\n",
    "incomeData.registerTempTable(\"incomeData\")\n"
   ]
  },
  {
   "cell_type": "code",
   "execution_count": 39,
   "metadata": {},
   "outputs": [
    {
     "name": "stdout",
     "output_type": "stream",
     "text": [
      "+----+-----------------+------------+\n",
      "| age|          JobType|hoursperweek|\n",
      "+----+-----------------+------------+\n",
      "|39.0|        State-gov|        40.0|\n",
      "|50.0| Self-emp-not-inc|        13.0|\n",
      "|38.0|          Private|        40.0|\n",
      "|53.0|          Private|        40.0|\n",
      "|28.0|          Private|        40.0|\n",
      "+----+-----------------+------------+\n",
      "only showing top 5 rows\n",
      "\n"
     ]
    }
   ],
   "source": [
    "sql_sc.sql(\"SELECT age,JobType,hoursperweek FROM incomeData\").show(5)"
   ]
  },
  {
   "cell_type": "code",
   "execution_count": 40,
   "metadata": {},
   "outputs": [
    {
     "name": "stdout",
     "output_type": "stream",
     "text": [
      "+----+-----------------+------------+\n",
      "| age|          JobType|hoursperweek|\n",
      "+----+-----------------+------------+\n",
      "|49.0|          Private|        16.0|\n",
      "|43.0| Self-emp-not-inc|        45.0|\n",
      "|54.0|          Private|        20.0|\n",
      "|59.0|          Private|        40.0|\n",
      "|49.0|          Private|        40.0|\n",
      "+----+-----------------+------------+\n",
      "only showing top 5 rows\n",
      "\n"
     ]
    }
   ],
   "source": [
    "sql_sc.sql(\"SELECT age,JobType,hoursperweek FROM incomeData WHERE age>40 AND gender==' Female'\").show(5)"
   ]
  },
  {
   "cell_type": "code",
   "execution_count": 41,
   "metadata": {},
   "outputs": [],
   "source": [
    "#Pipeline for our machine learning workflow. \n",
    "from pyspark.ml import Pipeline\n"
   ]
  },
  {
   "cell_type": "code",
   "execution_count": 42,
   "metadata": {},
   "outputs": [],
   "source": [
    "pipeline = Pipeline(stages = stages)"
   ]
  },
  {
   "cell_type": "code",
   "execution_count": 43,
   "metadata": {},
   "outputs": [],
   "source": [
    "pipelineModel = pipeline.fit(incomeData)"
   ]
  },
  {
   "cell_type": "code",
   "execution_count": 44,
   "metadata": {},
   "outputs": [],
   "source": [
    "incomeData = pipelineModel.transform(incomeData)"
   ]
  },
  {
   "cell_type": "code",
   "execution_count": 45,
   "metadata": {},
   "outputs": [
    {
     "name": "stdout",
     "output_type": "stream",
     "text": [
      "root\n",
      " |-- label: double (nullable = false)\n",
      " |-- features: vector (nullable = true)\n",
      " |-- age: double (nullable = true)\n",
      " |-- JobType: string (nullable = true)\n",
      " |-- EdType: string (nullable = true)\n",
      " |-- maritalstatus: string (nullable = true)\n",
      " |-- occupation: string (nullable = true)\n",
      " |-- relationship: string (nullable = true)\n",
      " |-- race: string (nullable = true)\n",
      " |-- gender: string (nullable = true)\n",
      " |-- capitalgain: double (nullable = true)\n",
      " |-- capitalloss: double (nullable = true)\n",
      " |-- hoursperweek: double (nullable = true)\n",
      " |-- SalStat: string (nullable = true)\n",
      "\n"
     ]
    }
   ],
   "source": [
    "#Add 2 columns label, features - the format needed to apply ml models in spark\n",
    "selectedCols = ['label', 'features'] + cols\n",
    "incomeData = incomeData.select(selectedCols)\n",
    "incomeData.printSchema()"
   ]
  },
  {
   "cell_type": "code",
   "execution_count": 46,
   "metadata": {},
   "outputs": [
    {
     "name": "stdout",
     "output_type": "stream",
     "text": [
      "Training Dataset Count: 194984\n",
      "Test Dataset Count: 83248\n"
     ]
    }
   ],
   "source": [
    "#Random split into 70% training and 30% testing data\n",
    "train, test = incomeData.randomSplit([0.7, 0.3], seed = 40)\n",
    "print(\"Training Dataset Count: \" + str(train.count()))\n",
    "print(\"Test Dataset Count: \" + str(test.count()))"
   ]
  },
  {
   "cell_type": "code",
   "execution_count": 48,
   "metadata": {},
   "outputs": [
    {
     "name": "stdout",
     "output_type": "stream",
     "text": [
      "Coefficients: [-1.2167510667640105,-0.6034407219140154,-1.0374477319649429,0.27325106902107715,-0.5258837994762674,-0.6838946205179618,-6.6902543034397315,-1.0453770453610145,-0.6277182386146432,0.13135009892027352,0.523857363397051,-0.04633030963708384,-0.2373138071602859,-1.5435123583088863,1.0057996108081797,-1.9826773108135807,0.9745606122509515,-2.992552789758456,-2.3446992690900137,-1.3596981578515948,-2.333062828239811,-3.161849481820656,0.029130625147540924,-1.392259781032186,-0.7558725013703184,-1.728488658931451,-1.7632356899288397,-1.0203445129916326,-0.22616898487738069,0.09309561036361755,-0.43076274856813945,-0.37391288180975446,-0.8157938545458632,-1.2434588423152786,-0.8122513952348925,-0.7976282100451864,0.46346655116049945,-1.2276125306010266,-0.1465788025328594,-2.1258172154146577,-4.860585243144027,-0.5320721628726202,-0.5256840593527324,-0.5410336824971408,-0.5451262653996516,-0.5455253047769468,-0.5322589284934202,0.0,-0.5391828301299658,-0.5544901602277448,-0.5390541251916572,-0.5884742376305289,-0.5756348440658775,-0.29363838342914744,0.04419794842253377,0.00022017837552033728,0.0005564384436460228,0.05100416820365444]\n",
      "Intercept: -0.5552867540911465\n"
     ]
    }
   ],
   "source": [
    "#LOGISTIC REGRESSION\n",
    "from pyspark.ml.classification import LogisticRegression\n",
    "\n",
    "# Simplest\n",
    "lr1 = LogisticRegression(featuresCol = 'features', \\\n",
    "                         labelCol = 'label', maxIter=10)\n",
    "# Fit the model\n",
    "lr1Model = lr1.fit(train)\n",
    "\n",
    "#lr = LogisticRegression(maxIter=10, regParam=0.3, elasticNetParam=0.8)\n",
    "trainingSummary1 = lr1Model.summary\n",
    "\n",
    "# Print the coefficients and intercept for logistic regression\n",
    "print(\"Coefficients: \" + str(lr1Model.coefficients))\n",
    "print(\"Intercept: \" + str(lr1Model.intercept))"
   ]
  },
  {
   "cell_type": "code",
   "execution_count": 49,
   "metadata": {},
   "outputs": [
    {
     "name": "stdout",
     "output_type": "stream",
     "text": [
      "Performance on Test Data:0.8784780198385825\n"
     ]
    }
   ],
   "source": [
    "#Make predictions on the test set.\n",
    "predictions1 = lr1Model.transform(test)\n",
    "#Evaluate performance on Test Set\n",
    "from pyspark.ml.evaluation import BinaryClassificationEvaluator\n",
    "evaluator = BinaryClassificationEvaluator()\n",
    "print(\"Performance on Test Data:\" + str(evaluator.evaluate(predictions1)))"
   ]
  },
  {
   "cell_type": "code",
   "execution_count": 50,
   "metadata": {},
   "outputs": [],
   "source": [
    "#DECISION TREE MODEL\n",
    "from pyspark.ml.classification import DecisionTreeClassifier\n",
    "dt = DecisionTreeClassifier(featuresCol = 'features', labelCol = 'label', maxDepth = 3)\n",
    "dtModel = dt.fit(train)\n"
   ]
  },
  {
   "cell_type": "code",
   "execution_count": 51,
   "metadata": {},
   "outputs": [
    {
     "name": "stdout",
     "output_type": "stream",
     "text": [
      "Performance on Test Data:0.6504354193001778\n"
     ]
    }
   ],
   "source": [
    "#Make predictions on the test set.\n",
    "predictions = dtModel.transform(test)\n",
    "#Evaluate our Decision Tree model on test set.\n",
    "evaluator = BinaryClassificationEvaluator()\n",
    "print(\"Performance on Test Data:\" + str(evaluator.evaluate(predictions)))\n",
    "\n",
    "#Prediction accuracy of decision trees can be improved by Ensemble methods"
   ]
  },
  {
   "cell_type": "code",
   "execution_count": 27,
   "metadata": {},
   "outputs": [],
   "source": [
    "#RANDOM FOREST\n",
    "from pyspark.ml.classification import RandomForestClassifier\n",
    "rf = RandomForestClassifier(featuresCol = 'features', labelCol = 'label')\n",
    "rfModel = rf.fit(train)"
   ]
  },
  {
   "cell_type": "code",
   "execution_count": 28,
   "metadata": {},
   "outputs": [
    {
     "name": "stdout",
     "output_type": "stream",
     "text": [
      "Performance on Test Data:0.874208519839909\n"
     ]
    }
   ],
   "source": [
    "#Make predictions on Test Set\n",
    "predictions = rfModel.transform(test)\n",
    "\n",
    "#Evaluate our Random Forest Classifier on test set.\n",
    "evaluator = BinaryClassificationEvaluator()\n",
    "print(\"Performance on Test Data:\" + str(evaluator.evaluate(predictions)))"
   ]
  },
  {
   "cell_type": "code",
   "execution_count": 29,
   "metadata": {},
   "outputs": [],
   "source": [
    "#Gradient-Boosted Classifier\n",
    "from pyspark.ml.classification import GBTClassifier\n",
    "gbt = GBTClassifier(maxIter=10)\n",
    "gbtModel = gbt.fit(train)"
   ]
  },
  {
   "cell_type": "code",
   "execution_count": 30,
   "metadata": {},
   "outputs": [
    {
     "name": "stdout",
     "output_type": "stream",
     "text": [
      "Performance on Test Data:0.8912530269853451\n"
     ]
    }
   ],
   "source": [
    "#Make predictions on Test Set\n",
    "predictions = gbtModel.transform(test)\n",
    "#Evaluate our Gradient-Boosted Tree Classifier on test set.\n",
    "evaluator = BinaryClassificationEvaluator()\n",
    "print(\"Performance on Test Data:\" + str(evaluator.evaluate(predictions)))"
   ]
  },
  {
   "cell_type": "code",
   "execution_count": 31,
   "metadata": {},
   "outputs": [],
   "source": [
    "from pyspark.ml.classification import NaiveBayes\n",
    "nb = NaiveBayes(smoothing=1.0, modelType=\"multinomial\")\n",
    "nbModel = nb.fit(train)"
   ]
  },
  {
   "cell_type": "code",
   "execution_count": 32,
   "metadata": {},
   "outputs": [
    {
     "name": "stdout",
     "output_type": "stream",
     "text": [
      "Performance on Test Data:0.2233801293438053\n"
     ]
    }
   ],
   "source": [
    "#Make predictions on Test Set\n",
    "predictions = nbModel.transform(test)\n",
    "#Evaluate our Naive Bayes Classifier.\n",
    "from pyspark.ml.evaluation import BinaryClassificationEvaluator\n",
    "evaluator = BinaryClassificationEvaluator()\n",
    "print(\"Performance on Test Data:\" + str(evaluator.evaluate(predictions)))"
   ]
  }
 ],
 "metadata": {
  "kernelspec": {
   "display_name": "Python 3",
   "language": "python",
   "name": "python3"
  },
  "language_info": {
   "codemirror_mode": {
    "name": "ipython",
    "version": 3
   },
   "file_extension": ".py",
   "mimetype": "text/x-python",
   "name": "python",
   "nbconvert_exporter": "python",
   "pygments_lexer": "ipython3",
   "version": "3.6.4"
  }
 },
 "nbformat": 4,
 "nbformat_minor": 2
}
